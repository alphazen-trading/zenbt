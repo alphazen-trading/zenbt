{
 "cells": [
  {
   "cell_type": "code",
   "execution_count": 1,
   "metadata": {},
   "outputs": [],
   "source": [
    "from zenbt.rs import LimitOrders, OrderType, Side\n",
    "from data.data import read_data, download_okx_data\n",
    "from zenbt.rs import Backtest, BacktestParams\n",
    "from sdk.plotter import plot_equity\n",
    "\n",
    "\n",
    "COMMISSION = 0\n",
    "COMMISSION = 0.02 / 100\n",
    "initial_capital = 2000\n",
    "\n",
    "bt_params = BacktestParams(commission_pct=COMMISSION, initial_capital=initial_capital)\n"
   ]
  },
  {
   "cell_type": "code",
   "execution_count": 2,
   "metadata": {},
   "outputs": [
    {
     "name": "stdout",
     "output_type": "stream",
     "text": [
      "/home/alpha/workspace/alphazen/zenbt\n"
     ]
    }
   ],
   "source": [
    "import os\n",
    "\n",
    "print(os.getcwd())"
   ]
  },
  {
   "cell_type": "code",
   "execution_count": 12,
   "metadata": {},
   "outputs": [],
   "source": [
    "sym = \"PEPE\"\n",
    "df, ohlcs = read_data(sym, 0, -1, resample_tf=\"1min\", exchange=\"okx\")"
   ]
  },
  {
   "cell_type": "code",
   "execution_count": 4,
   "metadata": {},
   "outputs": [],
   "source": [
    "from strategy.atr import ATR_Strategy\n",
    "\n",
    "st = ATR_Strategy(df, 100, (1, 2, 5, False))\n",
    "bt = Backtest(ohlcs, bt_params, st.limit_orders)\n",
    "bt.backtest()\n"
   ]
  },
  {
   "cell_type": "code",
   "execution_count": 13,
   "metadata": {},
   "outputs": [
    {
     "name": "stdout",
     "output_type": "stream",
     "text": [
      "RS Time elapsed: 6.670985ms\n",
      "     index  exit_index           entry_timestamp            exit_timestamp  \\\n",
      "0       94         134 2024-09-22 15:33:00+00:00 2024-09-22 16:13:00+00:00   \n",
      "1      235         257 2024-09-22 17:54:00+00:00 2024-09-22 18:16:00+00:00   \n",
      "2      217         258 2024-09-22 17:36:00+00:00 2024-09-22 18:17:00+00:00   \n",
      "3      227         258 2024-09-22 17:46:00+00:00 2024-09-22 18:17:00+00:00   \n",
      "4      290         305 2024-09-22 18:49:00+00:00 2024-09-22 19:04:00+00:00   \n",
      "..     ...         ...                       ...                       ...   \n",
      "381   5536        5711 2024-09-26 10:15:00+00:00 2024-09-26 13:10:00+00:00   \n",
      "382   5711        5730 2024-09-26 13:10:00+00:00 2024-09-26 13:29:00+00:00   \n",
      "383   5698        5733 2024-09-26 12:57:00+00:00 2024-09-26 13:32:00+00:00   \n",
      "384   5694        5751 2024-09-26 12:53:00+00:00 2024-09-26 13:50:00+00:00   \n",
      "385   5779        5790 2024-09-26 14:18:00+00:00 2024-09-26 14:29:00+00:00   \n",
      "\n",
      "                entry_price              exit_price size  \\\n",
      "0    0.00000794752342757056  0.00000788990628971776  100   \n",
      "1    0.00000803778707694586  0.00000798385169221654  100   \n",
      "2    0.00000801758370266095  0.00000796466518935619  100   \n",
      "3    0.00000803024710337094  0.00000797401158651625  100   \n",
      "4    0.00000801348763222341  0.00000797604947110638  100   \n",
      "..                      ...                     ...  ...   \n",
      "381  0.00000907645103191914  0.00000926096135111056  100   \n",
      "382  0.00000918763447344841  0.00000908446210620636  100   \n",
      "383  0.00000917568490637862  0.00000906726037448552  100   \n",
      "384  0.00000914875128193835  0.00000904499487224661  100   \n",
      "385   0.0000092599132390209   0.0000091203470439164  100   \n",
      "\n",
      "                         sl                      tp   side  \\\n",
      "0    0.00000806275770327615  0.00000788990628971776  Short   \n",
      "1    0.00000814565784640451  0.00000798385169221654  Short   \n",
      "2    0.00000812342072927047  0.00000796466518935619  Short   \n",
      "3    0.00000814271813708032  0.00000797401158651625  Short   \n",
      "4    0.00000808836395445746  0.00000797604947110638  Short   \n",
      "..                      ...                     ...    ...   \n",
      "381  0.00000926096135111056  0.00000898419587232343  Short   \n",
      "382  0.00000939397920793252  0.00000908446210620636  Short   \n",
      "383  0.00000939253397016484  0.00000906726037448552  Short   \n",
      "384  0.00000935626410132183  0.00000904499487224661  Short   \n",
      "385  0.00000953904562922989   0.0000091203470439164  Short   \n",
      "\n",
      "                             pnl                   max_dd close_reason  \\\n",
      "0     0.000005602763316728588800      -6.4765724294400E-7   TakeProfit   \n",
      "1     0.000005232782731393082800                      0.0   TakeProfit   \n",
      "2     0.000005131499656422781000  -0.00000174162973390500   TakeProfit   \n",
      "3     0.000005462946743401581200      -4.7528966290600E-7   TakeProfit   \n",
      "4     0.000003583546359058531800                      0.0   TakeProfit   \n",
      "..                           ...                      ...          ...   \n",
      "381  -0.000018632560939780382800  -0.00000945489680808600     StopLoss   \n",
      "382   0.000010133484034736031800  -0.00000293655265515900   TakeProfit   \n",
      "383   0.000010658939491182427600  -0.00000413150936213800   TakeProfit   \n",
      "384   0.000010192665943535233000  -0.00000682487180616500   TakeProfit   \n",
      "385    0.00001377142124566958200       -1.086760979100E-7   TakeProfit   \n",
      "\n",
      "                 commission commission_pct  \n",
      "0    3.16748594345766400E-7         0.0002  \n",
      "1    3.20432775383248000E-7         0.0002  \n",
      "2    3.19644977840342800E-7         0.0002  \n",
      "3    3.20085173797743800E-7         0.0002  \n",
      "4    3.19790742066595800E-7         0.0002  \n",
      "..                      ...            ...  \n",
      "381  3.66748247660594000E-7         0.0002  \n",
      "382  3.65441931593095400E-7         0.0002  \n",
      "383  3.64858905617282800E-7         0.0002  \n",
      "384  3.63874923083699200E-7         0.0002  \n",
      "385   3.6760520565874600E-7         0.0002  \n",
      "\n",
      "[386 rows x 15 columns]\n"
     ]
    }
   ],
   "source": [
    "from sdk.trade_record import get_trades_df\n",
    "trades = get_trades_df(bt.get_state())\n",
    "print(trades)"
   ]
  },
  {
   "cell_type": "code",
   "execution_count": 30,
   "metadata": {},
   "outputs": [
    {
     "data": {
      "text/html": [
       "<pre style=\"white-space:pre;overflow-x:auto;line-height:normal;font-family:Menlo,'DejaVu Sans Mono',consolas,'Courier New',monospace\"><span style=\"font-style: italic\">                 Trading Summary                  </span>\n",
       "┏━━━━━━━━━━━━━━━━━━┳━━━━━━━━━━━━━━━━━━━━━━━━━━━━━┓\n",
       "┃<span style=\"font-weight: bold\"> Metric           </span>┃<span style=\"font-weight: bold\">                       Value </span>┃\n",
       "┡━━━━━━━━━━━━━━━━━━╇━━━━━━━━━━━━━━━━━━━━━━━━━━━━━┩\n",
       "│<span style=\"color: #008080; text-decoration-color: #008080\"> initial_capital  </span>│<span style=\"color: #800080; text-decoration-color: #800080\">                        2000 </span>│\n",
       "│<span style=\"color: #008080; text-decoration-color: #008080\"> pnl              </span>│<span style=\"color: #800080; text-decoration-color: #800080\"> -0.000596889610821606035800 </span>│\n",
       "│<span style=\"color: #008080; text-decoration-color: #008080\"> pnl_pct          </span>│<span style=\"color: #800080; text-decoration-color: #800080\"> -0.000029844480541080301790 </span>│\n",
       "│<span style=\"color: #008080; text-decoration-color: #008080\"> unrealized_pnl   </span>│<span style=\"color: #800080; text-decoration-color: #800080\">     -0.00013398124405070200 </span>│\n",
       "│<span style=\"color: #008080; text-decoration-color: #008080\"> total_positions  </span>│<span style=\"color: #800080; text-decoration-color: #800080\">                         402 </span>│\n",
       "│<span style=\"color: #008080; text-decoration-color: #008080\"> closed_positions </span>│<span style=\"color: #800080; text-decoration-color: #800080\">                         386 </span>│\n",
       "│<span style=\"color: #008080; text-decoration-color: #008080\"> active_positions </span>│<span style=\"color: #800080; text-decoration-color: #800080\">                          16 </span>│\n",
       "│<span style=\"color: #008080; text-decoration-color: #008080\"> commissions      </span>│<span style=\"color: #800080; text-decoration-color: #800080\">  0.000131890638024335514400 </span>│\n",
       "│<span style=\"color: #008080; text-decoration-color: #008080\"> wins             </span>│<span style=\"color: #800080; text-decoration-color: #800080\">                         238 </span>│\n",
       "│<span style=\"color: #008080; text-decoration-color: #008080\"> losses           </span>│<span style=\"color: #800080; text-decoration-color: #800080\">                         148 </span>│\n",
       "│<span style=\"color: #008080; text-decoration-color: #008080\"> win_rate         </span>│<span style=\"color: #800080; text-decoration-color: #800080\">                       61.66 </span>│\n",
       "│<span style=\"color: #008080; text-decoration-color: #008080\"> trading_days     </span>│<span style=\"color: #800080; text-decoration-color: #800080\">                           4 </span>│\n",
       "│<span style=\"color: #008080; text-decoration-color: #008080\"> start_date       </span>│<span style=\"color: #800080; text-decoration-color: #800080\">     2024-09-22 13:59:00 UTC </span>│\n",
       "│<span style=\"color: #008080; text-decoration-color: #008080\"> end_date         </span>│<span style=\"color: #800080; text-decoration-color: #800080\">     2024-09-26 14:37:00 UTC </span>│\n",
       "│<span style=\"color: #008080; text-decoration-color: #008080\"> max_drawdown     </span>│<span style=\"color: #800080; text-decoration-color: #800080\">  0.000820673644465729802000 </span>│\n",
       "│<span style=\"color: #008080; text-decoration-color: #008080\"> max_drawdown_pct </span>│<span style=\"color: #800080; text-decoration-color: #800080\">  0.000041033682223286490100 </span>│\n",
       "└──────────────────┴─────────────────────────────┘\n",
       "</pre>\n"
      ],
      "text/plain": [
       "\u001b[3m                 Trading Summary                  \u001b[0m\n",
       "┏━━━━━━━━━━━━━━━━━━┳━━━━━━━━━━━━━━━━━━━━━━━━━━━━━┓\n",
       "┃\u001b[1m \u001b[0m\u001b[1mMetric          \u001b[0m\u001b[1m \u001b[0m┃\u001b[1m \u001b[0m\u001b[1m                      Value\u001b[0m\u001b[1m \u001b[0m┃\n",
       "┡━━━━━━━━━━━━━━━━━━╇━━━━━━━━━━━━━━━━━━━━━━━━━━━━━┩\n",
       "│\u001b[36m \u001b[0m\u001b[36minitial_capital \u001b[0m\u001b[36m \u001b[0m│\u001b[35m \u001b[0m\u001b[35m                       2000\u001b[0m\u001b[35m \u001b[0m│\n",
       "│\u001b[36m \u001b[0m\u001b[36mpnl             \u001b[0m\u001b[36m \u001b[0m│\u001b[35m \u001b[0m\u001b[35m-0.000596889610821606035800\u001b[0m\u001b[35m \u001b[0m│\n",
       "│\u001b[36m \u001b[0m\u001b[36mpnl_pct         \u001b[0m\u001b[36m \u001b[0m│\u001b[35m \u001b[0m\u001b[35m-0.000029844480541080301790\u001b[0m\u001b[35m \u001b[0m│\n",
       "│\u001b[36m \u001b[0m\u001b[36munrealized_pnl  \u001b[0m\u001b[36m \u001b[0m│\u001b[35m \u001b[0m\u001b[35m    -0.00013398124405070200\u001b[0m\u001b[35m \u001b[0m│\n",
       "│\u001b[36m \u001b[0m\u001b[36mtotal_positions \u001b[0m\u001b[36m \u001b[0m│\u001b[35m \u001b[0m\u001b[35m                        402\u001b[0m\u001b[35m \u001b[0m│\n",
       "│\u001b[36m \u001b[0m\u001b[36mclosed_positions\u001b[0m\u001b[36m \u001b[0m│\u001b[35m \u001b[0m\u001b[35m                        386\u001b[0m\u001b[35m \u001b[0m│\n",
       "│\u001b[36m \u001b[0m\u001b[36mactive_positions\u001b[0m\u001b[36m \u001b[0m│\u001b[35m \u001b[0m\u001b[35m                         16\u001b[0m\u001b[35m \u001b[0m│\n",
       "│\u001b[36m \u001b[0m\u001b[36mcommissions     \u001b[0m\u001b[36m \u001b[0m│\u001b[35m \u001b[0m\u001b[35m 0.000131890638024335514400\u001b[0m\u001b[35m \u001b[0m│\n",
       "│\u001b[36m \u001b[0m\u001b[36mwins            \u001b[0m\u001b[36m \u001b[0m│\u001b[35m \u001b[0m\u001b[35m                        238\u001b[0m\u001b[35m \u001b[0m│\n",
       "│\u001b[36m \u001b[0m\u001b[36mlosses          \u001b[0m\u001b[36m \u001b[0m│\u001b[35m \u001b[0m\u001b[35m                        148\u001b[0m\u001b[35m \u001b[0m│\n",
       "│\u001b[36m \u001b[0m\u001b[36mwin_rate        \u001b[0m\u001b[36m \u001b[0m│\u001b[35m \u001b[0m\u001b[35m                      61.66\u001b[0m\u001b[35m \u001b[0m│\n",
       "│\u001b[36m \u001b[0m\u001b[36mtrading_days    \u001b[0m\u001b[36m \u001b[0m│\u001b[35m \u001b[0m\u001b[35m                          4\u001b[0m\u001b[35m \u001b[0m│\n",
       "│\u001b[36m \u001b[0m\u001b[36mstart_date      \u001b[0m\u001b[36m \u001b[0m│\u001b[35m \u001b[0m\u001b[35m    2024-09-22 13:59:00 UTC\u001b[0m\u001b[35m \u001b[0m│\n",
       "│\u001b[36m \u001b[0m\u001b[36mend_date        \u001b[0m\u001b[36m \u001b[0m│\u001b[35m \u001b[0m\u001b[35m    2024-09-26 14:37:00 UTC\u001b[0m\u001b[35m \u001b[0m│\n",
       "│\u001b[36m \u001b[0m\u001b[36mmax_drawdown    \u001b[0m\u001b[36m \u001b[0m│\u001b[35m \u001b[0m\u001b[35m 0.000820673644465729802000\u001b[0m\u001b[35m \u001b[0m│\n",
       "│\u001b[36m \u001b[0m\u001b[36mmax_drawdown_pct\u001b[0m\u001b[36m \u001b[0m│\u001b[35m \u001b[0m\u001b[35m 0.000041033682223286490100\u001b[0m\u001b[35m \u001b[0m│\n",
       "└──────────────────┴─────────────────────────────┘\n"
      ]
     },
     "metadata": {},
     "output_type": "display_data"
    }
   ],
   "source": [
    "from rich.table import Table\n",
    "from rich.console import Console\n",
    "from decimal import Decimal\n",
    "\n",
    "data = bt.get_stats()['stats']\n",
    "\n",
    "# Create a console object\n",
    "console = Console()\n",
    "\n",
    "# Create a table\n",
    "table = Table(title=\"Trading Summary\")\n",
    "\n",
    "# Add columns\n",
    "table.add_column(\"Metric\", justify=\"left\", style=\"cyan\", no_wrap=True)\n",
    "table.add_column(\"Value\", justify=\"right\", style=\"magenta\")\n",
    "\n",
    "# Add rows from data\n",
    "for key, value in data.items():\n",
    "    table.add_row(key, str(value))\n",
    "\n",
    "# Print the table\n",
    "console.print(table)"
   ]
  },
  {
   "cell_type": "code",
   "execution_count": 31,
   "metadata": {},
   "outputs": [
    {
     "name": "stdout",
     "output_type": "stream",
     "text": [
      "RS Time elapsed: 6.445801ms\n"
     ]
    },
    {
     "ename": "ValueError",
     "evalue": "cannot insert level_0, already exists",
     "output_type": "error",
     "traceback": [
      "\u001b[0;31m---------------------------------------------------------------------------\u001b[0m",
      "\u001b[0;31mValueError\u001b[0m                                Traceback (most recent call last)",
      "Input \u001b[0;32mIn [31]\u001b[0m, in \u001b[0;36m<module>\u001b[0;34m\u001b[0m\n\u001b[1;32m      1\u001b[0m \u001b[38;5;28;01mfrom\u001b[39;00m \u001b[38;5;21;01msdk\u001b[39;00m\u001b[38;5;21;01m.\u001b[39;00m\u001b[38;5;21;01mplotter\u001b[39;00m \u001b[38;5;28;01mimport\u001b[39;00m plot_equity\n\u001b[0;32m----> 3\u001b[0m \u001b[43mplot_equity\u001b[49m\u001b[43m(\u001b[49m\u001b[43mdf\u001b[49m\u001b[43m,\u001b[49m\u001b[43m \u001b[49m\u001b[43mbt\u001b[49m\u001b[43m)\u001b[49m\n",
      "File \u001b[0;32m~/workspace/alphazen/zenbt/src/sdk/plotter.py:11\u001b[0m, in \u001b[0;36mplot_equity\u001b[0;34m(df, bt)\u001b[0m\n\u001b[1;32m      9\u001b[0m equity \u001b[38;5;241m=\u001b[39m pd\u001b[38;5;241m.\u001b[39mDataFrame(equity)\n\u001b[1;32m     10\u001b[0m \u001b[38;5;66;03m# df[\"time\"] = pd.to_datetime(df[\"date\"], unit=\"ms\")\u001b[39;00m\n\u001b[0;32m---> 11\u001b[0m \u001b[43mdf\u001b[49m\u001b[38;5;241;43m.\u001b[39;49m\u001b[43mreset_index\u001b[49m\u001b[43m(\u001b[49m\u001b[43minplace\u001b[49m\u001b[38;5;241;43m=\u001b[39;49m\u001b[38;5;28;43;01mTrue\u001b[39;49;00m\u001b[43m)\u001b[49m\n\u001b[1;32m     12\u001b[0m equity[\u001b[38;5;124m\"\u001b[39m\u001b[38;5;124mtime\u001b[39m\u001b[38;5;124m\"\u001b[39m] \u001b[38;5;241m=\u001b[39m df[\u001b[38;5;124m\"\u001b[39m\u001b[38;5;124mdate\u001b[39m\u001b[38;5;124m\"\u001b[39m]\n\u001b[1;32m     13\u001b[0m equity[\u001b[38;5;124m\"\u001b[39m\u001b[38;5;124mtime\u001b[39m\u001b[38;5;124m\"\u001b[39m] \u001b[38;5;241m=\u001b[39m pd\u001b[38;5;241m.\u001b[39mto_datetime(equity[\u001b[38;5;124m\"\u001b[39m\u001b[38;5;124mtime\u001b[39m\u001b[38;5;124m\"\u001b[39m], unit\u001b[38;5;241m=\u001b[39m\u001b[38;5;124m\"\u001b[39m\u001b[38;5;124mms\u001b[39m\u001b[38;5;124m\"\u001b[39m)\n",
      "File \u001b[0;32m~/workspace/alphazen/zenbt/.venv/lib/python3.12/site-packages/pandas/core/frame.py:6472\u001b[0m, in \u001b[0;36mDataFrame.reset_index\u001b[0;34m(self, level, drop, inplace, col_level, col_fill, allow_duplicates, names)\u001b[0m\n\u001b[1;32m   6466\u001b[0m         \u001b[38;5;28;01mif\u001b[39;00m lab \u001b[38;5;129;01mis\u001b[39;00m \u001b[38;5;129;01mnot\u001b[39;00m \u001b[38;5;28;01mNone\u001b[39;00m:\n\u001b[1;32m   6467\u001b[0m             \u001b[38;5;66;03m# if we have the codes, extract the values with a mask\u001b[39;00m\n\u001b[1;32m   6468\u001b[0m             level_values \u001b[38;5;241m=\u001b[39m algorithms\u001b[38;5;241m.\u001b[39mtake(\n\u001b[1;32m   6469\u001b[0m                 level_values, lab, allow_fill\u001b[38;5;241m=\u001b[39m\u001b[38;5;28;01mTrue\u001b[39;00m, fill_value\u001b[38;5;241m=\u001b[39mlev\u001b[38;5;241m.\u001b[39m_na_value\n\u001b[1;32m   6470\u001b[0m             )\n\u001b[0;32m-> 6472\u001b[0m         \u001b[43mnew_obj\u001b[49m\u001b[38;5;241;43m.\u001b[39;49m\u001b[43minsert\u001b[49m\u001b[43m(\u001b[49m\n\u001b[1;32m   6473\u001b[0m \u001b[43m            \u001b[49m\u001b[38;5;241;43m0\u001b[39;49m\u001b[43m,\u001b[49m\n\u001b[1;32m   6474\u001b[0m \u001b[43m            \u001b[49m\u001b[43mname\u001b[49m\u001b[43m,\u001b[49m\n\u001b[1;32m   6475\u001b[0m \u001b[43m            \u001b[49m\u001b[43mlevel_values\u001b[49m\u001b[43m,\u001b[49m\n\u001b[1;32m   6476\u001b[0m \u001b[43m            \u001b[49m\u001b[43mallow_duplicates\u001b[49m\u001b[38;5;241;43m=\u001b[39;49m\u001b[43mallow_duplicates\u001b[49m\u001b[43m,\u001b[49m\n\u001b[1;32m   6477\u001b[0m \u001b[43m        \u001b[49m\u001b[43m)\u001b[49m\n\u001b[1;32m   6479\u001b[0m new_obj\u001b[38;5;241m.\u001b[39mindex \u001b[38;5;241m=\u001b[39m new_index\n\u001b[1;32m   6480\u001b[0m \u001b[38;5;28;01mif\u001b[39;00m \u001b[38;5;129;01mnot\u001b[39;00m inplace:\n",
      "File \u001b[0;32m~/workspace/alphazen/zenbt/.venv/lib/python3.12/site-packages/pandas/core/frame.py:5158\u001b[0m, in \u001b[0;36mDataFrame.insert\u001b[0;34m(self, loc, column, value, allow_duplicates)\u001b[0m\n\u001b[1;32m   5152\u001b[0m     \u001b[38;5;28;01mraise\u001b[39;00m \u001b[38;5;167;01mValueError\u001b[39;00m(\n\u001b[1;32m   5153\u001b[0m         \u001b[38;5;124m\"\u001b[39m\u001b[38;5;124mCannot specify \u001b[39m\u001b[38;5;124m'\u001b[39m\u001b[38;5;124mallow_duplicates=True\u001b[39m\u001b[38;5;124m'\u001b[39m\u001b[38;5;124m when \u001b[39m\u001b[38;5;124m\"\u001b[39m\n\u001b[1;32m   5154\u001b[0m         \u001b[38;5;124m\"\u001b[39m\u001b[38;5;124m'\u001b[39m\u001b[38;5;124mself.flags.allows_duplicate_labels\u001b[39m\u001b[38;5;124m'\u001b[39m\u001b[38;5;124m is False.\u001b[39m\u001b[38;5;124m\"\u001b[39m\n\u001b[1;32m   5155\u001b[0m     )\n\u001b[1;32m   5156\u001b[0m \u001b[38;5;28;01mif\u001b[39;00m \u001b[38;5;129;01mnot\u001b[39;00m allow_duplicates \u001b[38;5;129;01mand\u001b[39;00m column \u001b[38;5;129;01min\u001b[39;00m \u001b[38;5;28mself\u001b[39m\u001b[38;5;241m.\u001b[39mcolumns:\n\u001b[1;32m   5157\u001b[0m     \u001b[38;5;66;03m# Should this be a different kind of error??\u001b[39;00m\n\u001b[0;32m-> 5158\u001b[0m     \u001b[38;5;28;01mraise\u001b[39;00m \u001b[38;5;167;01mValueError\u001b[39;00m(\u001b[38;5;124mf\u001b[39m\u001b[38;5;124m\"\u001b[39m\u001b[38;5;124mcannot insert \u001b[39m\u001b[38;5;132;01m{\u001b[39;00mcolumn\u001b[38;5;132;01m}\u001b[39;00m\u001b[38;5;124m, already exists\u001b[39m\u001b[38;5;124m\"\u001b[39m)\n\u001b[1;32m   5159\u001b[0m \u001b[38;5;28;01mif\u001b[39;00m \u001b[38;5;129;01mnot\u001b[39;00m is_integer(loc):\n\u001b[1;32m   5160\u001b[0m     \u001b[38;5;28;01mraise\u001b[39;00m \u001b[38;5;167;01mTypeError\u001b[39;00m(\u001b[38;5;124m\"\u001b[39m\u001b[38;5;124mloc must be int\u001b[39m\u001b[38;5;124m\"\u001b[39m)\n",
      "\u001b[0;31mValueError\u001b[0m: cannot insert level_0, already exists"
     ]
    }
   ],
   "source": [
    "\n",
    "df, ohlcs = read_data(sym, 0, -1, resample_tf=\"1min\", exchange=\"okx\")\n",
    "df.reset_index(inplace=True)\n",
    "\n",
    "plot_equity(df, bt)"
   ]
  }
 ],
 "metadata": {
  "kernelspec": {
   "display_name": ".venv",
   "language": "python",
   "name": "python3"
  },
  "language_info": {
   "codemirror_mode": {
    "name": "ipython",
    "version": 3
   },
   "file_extension": ".py",
   "mimetype": "text/x-python",
   "name": "python",
   "nbconvert_exporter": "python",
   "pygments_lexer": "ipython3",
   "version": "3.12.0"
  }
 },
 "nbformat": 4,
 "nbformat_minor": 2
}
